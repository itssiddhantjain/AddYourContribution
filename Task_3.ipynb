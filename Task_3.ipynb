{
  "nbformat": 4,
  "nbformat_minor": 0,
  "metadata": {
    "colab": {
      "provenance": [],
      "authorship_tag": "ABX9TyNVPVYdGpvDtiCILZ6mWEh2",
      "include_colab_link": true
    },
    "kernelspec": {
      "name": "python3",
      "display_name": "Python 3"
    },
    "language_info": {
      "name": "python"
    }
  },
  "cells": [
    {
      "cell_type": "markdown",
      "metadata": {
        "id": "view-in-github",
        "colab_type": "text"
      },
      "source": [
        "<a href=\"https://colab.research.google.com/github/itssiddhantjain/AddYourContribution/blob/main/Task_3.ipynb\" target=\"_parent\"><img src=\"https://colab.research.google.com/assets/colab-badge.svg\" alt=\"Open In Colab\"/></a>"
      ]
    },
    {
      "cell_type": "code",
      "execution_count": null,
      "metadata": {
        "id": "oUPFqrv-oWBJ"
      },
      "outputs": [],
      "source": [
        "import pandas as pd\n",
        "import numpy as np\n",
        "from sklearn.model_selection import train_test_split, cross_val_score\n",
        "from sklearn.linear_model import LinearRegression\n",
        "from sklearn.tree import DecisionTreeRegressor\n",
        "from sklearn.ensemble import RandomForestRegressor\n",
        "from sklearn.svm import SVR\n",
        "from sklearn.metrics import mean_squared_error, r2_score\n",
        "\n",
        "\n",
        "# In[2]:\n",
        "\n",
        "\n",
        "# Load Dataset\n",
        "data = pd.read_csv(\"E:\\Internship Task\\Data Science Internship\\Dataset.csv\")\n",
        "\n",
        "\n",
        "# In[3]:\n",
        "\n",
        "\n",
        "# Create new numerical columns\n",
        "data['Has Table booking_Num'] = np.where(data['Has Table booking'] == \"Yes\", 1, 0)\n",
        "data['Has Online delivery_Num'] = np.where(data['Has Online delivery'] == \"Yes\", 1, 0)\n",
        "\n",
        "\n",
        "# In[4]:\n",
        "\n",
        "\n",
        "# Define predictor variables and target variable\n",
        "predictors = [\"Average Cost for two\", \"Votes\", \"Price range\", \"Has Table booking_Num\", \"Has Online delivery_Num\"]\n",
        "target_variable = \"Aggregate rating\"\n",
        "\n",
        "\n",
        "# In[5]:\n",
        "\n",
        "\n",
        "# Split data into training and testing sets\n",
        "data_train, data_test = train_test_split(data, test_size=0.2, random_state=123)\n",
        "\n",
        "\n",
        "# In[ ]:\n",
        "\n",
        "\n",
        "# Train models\n",
        "models = {\n",
        "    \"Linear Regression\": LinearRegression(),\n",
        "    \"Decision Tree\": DecisionTreeRegressor(),\n",
        "    \"Random Forest\": RandomForestRegressor(),\n",
        "    \"Support Vector Machine\": SVR(kernel='linear')\n",
        "}\n",
        "\n",
        "results = {}\n",
        "\n",
        "for name, model in models.items():\n",
        "    scores = cross_val_score(model, data_train[predictors], data_train[target_variable], cv=5, scoring='neg_mean_squared_error')\n",
        "    model.fit(data_train[predictors], data_train[target_variable])\n",
        "    predictions = model.predict(data_test[predictors])\n",
        "    rmse = np.sqrt(mean_squared_error(data_test[target_variable], predictions))\n",
        "    r2 = r2_score(data_test[target_variable], predictions)\n",
        "    results[name] = {\"RMSE\": rmse, \"R-squared\": r2}\n",
        "\n",
        "\n",
        "# In[ ]:\n",
        "\n",
        "\n",
        "# Print results\n",
        "for name, result in results.items():\n",
        "    print(name + \" RMSE:\", result[\"RMSE\"])\n",
        "    print(name + \" R-squared:\", result[\"R-squared\"])\n",
        "    print()"
      ]
    }
  ]
}